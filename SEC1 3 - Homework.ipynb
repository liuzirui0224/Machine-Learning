{
 "cells": [
  {
   "cell_type": "code",
   "execution_count": 1,
   "id": "1022e4d8",
   "metadata": {},
   "outputs": [],
   "source": [
    "import pandas as pd\n",
    "from sklearn.model_selection import train_test_split\n",
    "from pytrends.request import TrendReq\n",
    "import warnings\n",
    "warnings.filterwarnings('ignore')"
   ]
  },
  {
   "cell_type": "markdown",
   "id": "a98f5070",
   "metadata": {},
   "source": [
    "# 0.) Clean the Apple Data to get a quarterly series of EPS."
   ]
  },
  {
   "cell_type": "code",
   "execution_count": null,
   "id": "c580c72a",
   "metadata": {},
   "outputs": [],
   "source": [
    "data = pd.read_csv(\"AAPL_quarterly_financials.csv\", parse_dates = True, index_col = 0)\n",
    "data = data.sort_index().fillna(0)\n",
    "\n",
    "data = data[(data.index >= start_date) & (data.index <= end_date)]\n"
   ]
  },
  {
   "cell_type": "markdown",
   "id": "2c1b3d9a",
   "metadata": {},
   "source": [
    "# 1.) Come up with 6 search terms you think could nowcast earnings. (Different than the ones I used) Add in 3 terms that that you think will not Nowcast earnings. Pull in the gtrends data. Clean it to have a quarterly average."
   ]
  },
  {
   "cell_type": "code",
   "execution_count": 11,
   "id": "f2109b8b",
   "metadata": {},
   "outputs": [],
   "source": [
    "# Create pytrends object\n",
    "pytrends = TrendReq(hl='en-US', tz=360)\n",
    "\n",
    "# Set up the keywords and the timeframe\n",
    "keywords = [\"iPhone\", \"Recession\",\"Huawei\",\"Apple\",\"New Phone\",\"Interest Rates\",\"Taylor Swift Tickets\",\"Hospital\",\"UCLA\"]  # Add your keywords here\n",
    "start_date = '2004-01-01'\n",
    "end_date = '2024-01-01'\n",
    "\n",
    "# Create an empty DataFrame to store the results\n",
    "df = pd.DataFrame()\n",
    "\n",
    "# Iterate through keywords and fetch data\n",
    "for keyword in keywords:\n",
    "    pytrends.build_payload([keyword], cat=0, timeframe=f'{start_date} {end_date}', geo='', gprop='')\n",
    "    interest_over_time_df = pytrends.interest_over_time()\n",
    "    df[keyword] = interest_over_time_df[keyword]\n"
   ]
  },
  {
   "cell_type": "code",
   "execution_count": 12,
   "id": "6aabe466",
   "metadata": {},
   "outputs": [
    {
     "data": {
      "text/html": [
       "<div>\n",
       "<style scoped>\n",
       "    .dataframe tbody tr th:only-of-type {\n",
       "        vertical-align: middle;\n",
       "    }\n",
       "\n",
       "    .dataframe tbody tr th {\n",
       "        vertical-align: top;\n",
       "    }\n",
       "\n",
       "    .dataframe thead th {\n",
       "        text-align: right;\n",
       "    }\n",
       "</style>\n",
       "<table border=\"1\" class=\"dataframe\">\n",
       "  <thead>\n",
       "    <tr style=\"text-align: right;\">\n",
       "      <th></th>\n",
       "      <th>iPhone</th>\n",
       "      <th>Recession</th>\n",
       "      <th>Huawei</th>\n",
       "      <th>Apple</th>\n",
       "      <th>New Phone</th>\n",
       "      <th>Interest Rates</th>\n",
       "      <th>Taylor Swift Tickets</th>\n",
       "      <th>Hospital</th>\n",
       "      <th>UCLA</th>\n",
       "    </tr>\n",
       "    <tr>\n",
       "      <th>date</th>\n",
       "      <th></th>\n",
       "      <th></th>\n",
       "      <th></th>\n",
       "      <th></th>\n",
       "      <th></th>\n",
       "      <th></th>\n",
       "      <th></th>\n",
       "      <th></th>\n",
       "      <th></th>\n",
       "    </tr>\n",
       "  </thead>\n",
       "  <tbody>\n",
       "    <tr>\n",
       "      <th>2004-03-31</th>\n",
       "      <td>0</td>\n",
       "      <td>23</td>\n",
       "      <td>0</td>\n",
       "      <td>57</td>\n",
       "      <td>145</td>\n",
       "      <td>180</td>\n",
       "      <td>1</td>\n",
       "      <td>235</td>\n",
       "      <td>265</td>\n",
       "    </tr>\n",
       "    <tr>\n",
       "      <th>2004-06-30</th>\n",
       "      <td>0</td>\n",
       "      <td>23</td>\n",
       "      <td>3</td>\n",
       "      <td>55</td>\n",
       "      <td>147</td>\n",
       "      <td>193</td>\n",
       "      <td>1</td>\n",
       "      <td>228</td>\n",
       "      <td>248</td>\n",
       "    </tr>\n",
       "    <tr>\n",
       "      <th>2004-09-30</th>\n",
       "      <td>0</td>\n",
       "      <td>19</td>\n",
       "      <td>3</td>\n",
       "      <td>68</td>\n",
       "      <td>155</td>\n",
       "      <td>159</td>\n",
       "      <td>0</td>\n",
       "      <td>236</td>\n",
       "      <td>223</td>\n",
       "    </tr>\n",
       "    <tr>\n",
       "      <th>2004-12-31</th>\n",
       "      <td>0</td>\n",
       "      <td>22</td>\n",
       "      <td>3</td>\n",
       "      <td>71</td>\n",
       "      <td>141</td>\n",
       "      <td>139</td>\n",
       "      <td>0</td>\n",
       "      <td>220</td>\n",
       "      <td>255</td>\n",
       "    </tr>\n",
       "    <tr>\n",
       "      <th>2005-03-31</th>\n",
       "      <td>0</td>\n",
       "      <td>20</td>\n",
       "      <td>3</td>\n",
       "      <td>78</td>\n",
       "      <td>136</td>\n",
       "      <td>145</td>\n",
       "      <td>0</td>\n",
       "      <td>239</td>\n",
       "      <td>248</td>\n",
       "    </tr>\n",
       "    <tr>\n",
       "      <th>...</th>\n",
       "      <td>...</td>\n",
       "      <td>...</td>\n",
       "      <td>...</td>\n",
       "      <td>...</td>\n",
       "      <td>...</td>\n",
       "      <td>...</td>\n",
       "      <td>...</td>\n",
       "      <td>...</td>\n",
       "      <td>...</td>\n",
       "    </tr>\n",
       "    <tr>\n",
       "      <th>2022-09-30</th>\n",
       "      <td>163</td>\n",
       "      <td>180</td>\n",
       "      <td>102</td>\n",
       "      <td>146</td>\n",
       "      <td>278</td>\n",
       "      <td>224</td>\n",
       "      <td>3</td>\n",
       "      <td>258</td>\n",
       "      <td>97</td>\n",
       "    </tr>\n",
       "    <tr>\n",
       "      <th>2022-12-31</th>\n",
       "      <td>151</td>\n",
       "      <td>147</td>\n",
       "      <td>98</td>\n",
       "      <td>144</td>\n",
       "      <td>236</td>\n",
       "      <td>243</td>\n",
       "      <td>114</td>\n",
       "      <td>224</td>\n",
       "      <td>122</td>\n",
       "    </tr>\n",
       "    <tr>\n",
       "      <th>2023-03-31</th>\n",
       "      <td>138</td>\n",
       "      <td>107</td>\n",
       "      <td>84</td>\n",
       "      <td>125</td>\n",
       "      <td>236</td>\n",
       "      <td>249</td>\n",
       "      <td>43</td>\n",
       "      <td>248</td>\n",
       "      <td>124</td>\n",
       "    </tr>\n",
       "    <tr>\n",
       "      <th>2023-06-30</th>\n",
       "      <td>134</td>\n",
       "      <td>91</td>\n",
       "      <td>78</td>\n",
       "      <td>124</td>\n",
       "      <td>217</td>\n",
       "      <td>219</td>\n",
       "      <td>163</td>\n",
       "      <td>239</td>\n",
       "      <td>87</td>\n",
       "    </tr>\n",
       "    <tr>\n",
       "      <th>2023-09-30</th>\n",
       "      <td>160</td>\n",
       "      <td>64</td>\n",
       "      <td>84</td>\n",
       "      <td>143</td>\n",
       "      <td>251</td>\n",
       "      <td>221</td>\n",
       "      <td>177</td>\n",
       "      <td>244</td>\n",
       "      <td>87</td>\n",
       "    </tr>\n",
       "  </tbody>\n",
       "</table>\n",
       "<p>79 rows × 9 columns</p>\n",
       "</div>"
      ],
      "text/plain": [
       "            iPhone  Recession  Huawei  Apple  New Phone  Interest Rates  \\\n",
       "date                                                                      \n",
       "2004-03-31       0         23       0     57        145             180   \n",
       "2004-06-30       0         23       3     55        147             193   \n",
       "2004-09-30       0         19       3     68        155             159   \n",
       "2004-12-31       0         22       3     71        141             139   \n",
       "2005-03-31       0         20       3     78        136             145   \n",
       "...            ...        ...     ...    ...        ...             ...   \n",
       "2022-09-30     163        180     102    146        278             224   \n",
       "2022-12-31     151        147      98    144        236             243   \n",
       "2023-03-31     138        107      84    125        236             249   \n",
       "2023-06-30     134         91      78    124        217             219   \n",
       "2023-09-30     160         64      84    143        251             221   \n",
       "\n",
       "            Taylor Swift Tickets  Hospital  UCLA  \n",
       "date                                              \n",
       "2004-03-31                     1       235   265  \n",
       "2004-06-30                     1       228   248  \n",
       "2004-09-30                     0       236   223  \n",
       "2004-12-31                     0       220   255  \n",
       "2005-03-31                     0       239   248  \n",
       "...                          ...       ...   ...  \n",
       "2022-09-30                     3       258    97  \n",
       "2022-12-31                   114       224   122  \n",
       "2023-03-31                    43       248   124  \n",
       "2023-06-30                   163       239    87  \n",
       "2023-09-30                   177       244    87  \n",
       "\n",
       "[79 rows x 9 columns]"
      ]
     },
     "execution_count": 12,
     "metadata": {},
     "output_type": "execute_result"
    }
   ],
   "source": [
    "df = df.resample(\"Q\").sum()[:-2]\n",
    "df"
   ]
  },
  {
   "cell_type": "code",
   "execution_count": 13,
   "id": "0cf724f7",
   "metadata": {
    "scrolled": true
   },
   "outputs": [],
   "source": [
    "data = pd.read_csv(\"AAPL_quarterly_financials.csv\", parse_dates = True, index_col = 0)\n",
    "data = data.sort_index().fillna(0)\n",
    "\n",
    "data = data[(data.index >= start_date) & (data.index <= end_date)]\n"
   ]
  },
  {
   "cell_type": "markdown",
   "id": "73c7abb8",
   "metadata": {},
   "source": [
    "# 2.) Normalize all the X data"
   ]
  },
  {
   "cell_type": "code",
   "execution_count": 15,
   "id": "95a7bb4d",
   "metadata": {},
   "outputs": [],
   "source": [
    "from sklearn.preprocessing import StandardScaler"
   ]
  },
  {
   "cell_type": "code",
   "execution_count": 16,
   "id": "397b45e8",
   "metadata": {},
   "outputs": [
    {
     "data": {
      "text/plain": [
       "array([[-1.82329406, -0.77036929, -1.03493774, -2.11137491, -0.89320321,\n",
       "         1.12075235, -0.41637267,  0.56841196,  2.0683298 ],\n",
       "       [-1.82329406, -0.77036929, -0.9962622 , -2.18637429, -0.85347177,\n",
       "         1.4786543 , -0.41637267,  0.18034799,  1.73272911],\n",
       "       [-1.82329406, -0.84864475, -0.9962622 , -1.69887833, -0.69454597,\n",
       "         0.54260305, -0.45004047,  0.62384966,  1.23919868],\n",
       "       [-1.82329406, -0.78993816, -0.9962622 , -1.58637926, -0.97266611,\n",
       "        -0.00801533, -0.45004047, -0.26315368,  1.87091763],\n",
       "       [-1.82329406, -0.82907589, -0.9962622 , -1.32388143, -1.07199474,\n",
       "         0.15717018, -0.45004047,  0.79016279,  1.73272911],\n",
       "       [-1.82329406, -0.82907589, -0.9962622 , -1.66137864, -1.25078626,\n",
       "         0.10210835, -0.45004047,  0.90103821,  1.33790476],\n",
       "       [-1.82329406, -0.84864475, -0.9962622 , -1.28638174, -1.03226329,\n",
       "        -0.09060809, -0.45004047,  1.12278905,  1.19971625],\n",
       "       [-1.82329406, -0.82907589, -0.9962622 , -0.87388516, -1.25078626,\n",
       "        -0.53110279, -0.41637267,  0.01403486,  2.12755345],\n",
       "       [-1.82329406, -0.82907589, -0.9962622 , -1.24888206, -1.40971206,\n",
       "         0.15717018, -0.45004047,  1.01191363,  1.87091763],\n",
       "       [-1.82329406, -0.88778249, -0.9962622 , -1.73637802, -1.58850358,\n",
       "         0.23976294, -0.45004047,  0.62384966,  1.19971625],\n",
       "       [-1.82329406, -0.84864475, -0.9962622 , -1.13638299, -1.15145763,\n",
       "         0.10210835, -0.45004047,  0.67928737,  0.98256286],\n",
       "       [-1.80725216, -0.82907589, -0.9962622 , -0.98638423, -1.4494435 ,\n",
       "        -0.53110279, -0.45004047, -0.26315368,  2.08807102],\n",
       "       [-1.59870744, -0.77036929, -0.98337036, -0.98638423, -1.19118908,\n",
       "         0.23976294, -0.41637267,  0.67928737,  1.73272911],\n",
       "       [-1.59870744, -0.86821362, -0.95758667, -1.39888081, -1.31038343,\n",
       "         0.10210835, -0.38270487,  0.29122341,  0.92333921],\n",
       "       [-1.32599512, -0.67252496, -0.95758667, -0.79888578, -1.01239756,\n",
       "         0.34988662, -0.34903707,  0.51297425,  0.90359799],\n",
       "       [-1.16557611, -0.3594231 , -0.93180298, -0.42388889, -0.77400887,\n",
       "        -0.20073176, -0.34903707, -0.09684056,  1.23919868],\n",
       "       [-1.16557611,  1.89099651, -0.91891113, -0.68638672, -1.27065198,\n",
       "         2.11186544, -0.31536927,  0.06947257,  1.33790476],\n",
       "       [-0.9891152 ,  0.28634949, -0.91891113, -1.06138361, -0.79387459,\n",
       "         0.1847011 , -0.28170147,  0.06947257,  0.72592703],\n",
       "       [-0.47577436,  0.79514001, -0.90601929, -0.61138734, -0.73427742,\n",
       "        -0.20073176, -0.24803367,  0.12491028,  0.72592703],\n",
       "       [-0.76452858,  3.71090107, -0.90601929, -0.49888827, -0.85347177,\n",
       "         1.69890165, -0.28170147, -1.15015703,  0.70618582],\n",
       "       [-0.81265428,  3.88702087, -0.8802356 , -1.0988833 , -1.11172619,\n",
       "         1.56124706,  0.42532234, -0.31859139,  0.76540947],\n",
       "       [-0.50785816,  2.10625404, -0.8802356 , -1.32388143, -0.79387459,\n",
       "         0.40494846,  0.25698334, -0.42946681,  0.19291417],\n",
       "       [-0.42764866,  1.36263713, -0.8802356 , -0.79888578, -1.01239756,\n",
       "        -0.22826268,  0.22331554,  0.2357857 ,  0.31136147],\n",
       "       [-0.41160676,  1.24522393, -0.82866822, -0.61138734, -0.63494879,\n",
       "        -0.28332452,  0.76200035, -1.09471932,  0.78515069],\n",
       "       [-0.37952295,  0.59945134, -0.81577637, -0.79888578, -0.83360604,\n",
       "        -0.06307717,  0.15597994, -0.15227826,  0.21265539],\n",
       "       [ 0.13381788,  0.30591835, -0.81577637, -0.46138858, -0.75414314,\n",
       "        -0.50357188, -0.18069807, -0.3740291 ,  0.15343174],\n",
       "       [ 0.69528443,  0.12979856, -0.78999268, -0.16139107, -0.5554859 ,\n",
       "        -0.53110279, -0.34903707, -0.81753078, -0.02423922],\n",
       "       [ 0.51882351,  0.14936742, -0.75131715,  0.21360582, -0.89320321,\n",
       "        -0.64122647,  0.18964774, -0.92840619,  0.31136147],\n",
       "       [ 0.43861401, -0.14416557, -0.72553346,  0.10110676, -0.81374032,\n",
       "        -0.53110279,  0.49265794, -0.70665536,  0.27187904],\n",
       "       [ 0.42257211, -0.16373444, -0.71264161, -0.23639045, -0.87333749,\n",
       "        -0.88900474,  0.15597994, -0.09684056, -0.20191017],\n",
       "       [ 0.69528443,  0.48203815, -0.60950685,  0.25110551, -0.59521734,\n",
       "        -0.47604096,  0.18964774, -0.26315368, -0.28087504],\n",
       "       [ 1.52946329,  0.20807402, -0.57083132,  2.01359091, -0.53562017,\n",
       "        -0.8339429 , -0.14703027, -0.92840619,  0.52851486],\n",
       "       [ 0.75945203, -0.1833033 , -0.58372316,  0.51360334, -1.01239756,\n",
       "        -0.69628831, -0.31536927, -0.87296848, -0.08346287],\n",
       "       [ 0.53486541, -0.26157877, -0.59661501, -0.08639169, -0.85347177,\n",
       "        -0.66875739, -0.34903707, -1.03928161, -0.26113382],\n",
       "       [ 1.43321188, -0.3594231 , -0.53215578,  1.26359712, -0.476023  ,\n",
       "        -0.94406658, -0.34903707, -0.54034223, -0.37958112],\n",
       "       [ 1.11237386, -0.2420099 , -0.51926394,  1.45109557, -0.61508307,\n",
       "        -1.08172118,  0.93033935, -2.09259809,  0.27187904],\n",
       "       [ 0.72736823, -0.39856083, -0.51926394, -0.048892  , -0.75414314,\n",
       "        -0.9715975 ,  0.08864434, -1.538221  , -0.30061626],\n",
       "       [ 0.59903302, -0.4181297 , -0.46769656, -0.19889076, -0.51575445,\n",
       "        -0.53110279,  0.05497654, -1.09471932, -0.35983991],\n",
       "       [ 1.22466716, -0.67252496, -0.27431888,  0.51360334,  0.15968019,\n",
       "        -0.42097912, -0.07969467, -0.65121765, -0.39932234],\n",
       "       [ 0.79153583, -0.45726743, -0.24853519,  0.81360085, -0.21776858,\n",
       "        -1.13678301, -0.24803367, -1.92628496,  0.29162026],\n",
       "       [ 0.53486541, -0.57468063, -0.2227515 , -0.42388889, -0.3170972 ,\n",
       "        -0.88900474, -0.28170147, -1.42734558, -0.18216895],\n",
       "       [ 0.43861401, -0.57468063, -0.2227515 , -0.57388765, -0.41642582,\n",
       "        -1.19184485, -0.34903707, -1.538221  , -0.67569938],\n",
       "       [ 1.43321188, -0.69209382, -0.11961674,  0.85110054,  0.53712896,\n",
       "        -1.13678301, -0.38270487, -0.76209307, -0.45854599],\n",
       "       [ 0.82361963, -0.45726743, -0.01648198,  0.85110054,  0.39806889,\n",
       "        -1.30196853,  0.62732914, -1.538221  ,  0.05472565],\n",
       "       [ 0.45465591, -0.5355429 , -0.06804936, -0.048892  ,  0.11994874,\n",
       "        -0.61369555,  0.05497654, -1.09471932, -0.18216895],\n",
       "       [ 0.3584045 , -0.59424949,  0.02219356, -0.01139231,  0.37820316,\n",
       "        -0.77888107,  0.18964774, -1.03928161, -0.6954406 ],\n",
       "       [ 0.77549393, -0.45726743,  0.21557123,  0.6636021 ,  0.9741749 ,\n",
       "        -0.72381923,  0.42532234, -0.76209307, -0.5769933 ],\n",
       "       [ 0.71132633, -0.49640516,  0.42184075,  0.70110178,  0.87484628,\n",
       "        -0.77888107, -0.14703027, -1.75997183, -0.14268652],\n",
       "       [ 0.53486541, -0.28114763,  0.40894891, -0.048892  ,  0.08021729,\n",
       "        -0.77888107, -0.34903707, -1.03928161, -0.61647573],\n",
       "       [ 0.47069781, -0.32028537,  0.5507592 , -0.31138982,  0.15968019,\n",
       "        -0.91653566, -0.34903707, -0.81753078,  0.21265539],\n",
       "       [ 1.04820625, -0.51597403,  0.6925695 ,  0.47610365,  0.71592048,\n",
       "        -0.86147382, -0.34903707, -0.65121765, -0.63621695],\n",
       "       [ 0.85570344, -0.28114763,  0.92462271,  1.07609868,  1.07350353,\n",
       "        -0.58616463, -0.38270487, -1.48278329, -0.10320408],\n",
       "       [ 0.42257211, -0.4181297 ,  0.84727164, -0.19889076,  1.07350353,\n",
       "        -0.50357188, -0.38270487, -0.42946681,  0.66670338],\n",
       "       [ 0.3584045 , -0.43769856,  0.76992057, -0.12389138,  0.55699468,\n",
       "        -0.72381923, -0.45004047,  0.51297425, -0.75466425],\n",
       "       [ 1.00008055, -0.61381836,  0.89883902,  1.0010993 ,  1.53041519,\n",
       "        -0.66875739, -0.34903707,  1.34453988, -0.49802843],\n",
       "       [ 1.08029005, -0.5355429 ,  1.2082433 ,  1.18859775,  0.894712  ,\n",
       "        -0.8339429 ,  0.42532234, -0.20771597,  0.07446687],\n",
       "       [ 0.50278161, -0.49640516,  1.19535146,  0.13860645,  0.37820316,\n",
       "        -0.36591728, -0.18069807,  0.67928737, -0.63621695],\n",
       "       [ 0.24611119, -0.45726743,  1.6078905 , -0.19889076,  0.41793461,\n",
       "        -0.58616463, -0.07969467,  0.34666112, -0.99155885],\n",
       "       [ 0.53486541, -0.45726743,  1.89151109,  0.73860147,  1.68934099,\n",
       "        -0.31085544, -0.14703027,  0.95647592, -0.89285277],\n",
       "       [ 0.51882351, -0.16373444,  2.43296858,  1.03859899,  1.1331007 ,\n",
       "        -0.20073176, -0.34903707,  0.29122341, -0.73492303],\n",
       "       [ 0.2942369 , -0.1833033 ,  2.23959091,  0.10110676,  1.1331007 ,\n",
       "        -0.20073176, -0.41637267,  0.95647592, -0.73492303],\n",
       "       [ 0.11777598, -0.28114763,  2.39429305, -0.27389014,  0.63645758,\n",
       "        -0.11813901, -0.45004047,  0.73472508, -0.91259399],\n",
       "       [ 0.53486541,  0.77557114,  1.90440293,  2.57608625,  1.17283215,\n",
       "         0.29482478, -0.31536927,  0.62384966, -1.09026494],\n",
       "       [ 0.63111682,  0.07109196,  1.96886216,  1.3385965 ,  1.57014664,\n",
       "        -0.28332452, -0.28170147,  0.56841196, -0.85337033],\n",
       "       [ 0.26215309,  1.48005032,  1.55632312,  0.2886052 ,  1.3714894 ,\n",
       "         1.6163089 , -0.34903707,  1.67716614, -1.01130007],\n",
       "       [ 0.3904883 ,  1.12781073,  1.89151109,  0.51360334,  1.23242932,\n",
       "         0.70778857, -0.45004047,  0.06947257, -1.56405415],\n",
       "       [ 0.26215309,  0.03195422,  1.68524157,  1.11359837,  1.82840106,\n",
       "         0.57013397, -0.45004047,  0.34666112, -1.70224267],\n",
       "       [ 0.91987104, -0.33985423,  1.51764758,  1.63859402,  1.2920265 ,\n",
       "        -0.17320085, -0.45004047,  0.06947257, -1.68250145],\n",
       "       [ 0.3102788 , -0.51597403,  0.9504064 ,  0.43860396,  0.81524911,\n",
       "         0.29482478, -0.45004047,  1.23366447, -1.09026494],\n",
       "       [ 0.16590169, -0.57468063,  0.60232658,  0.21360582,  0.85498055,\n",
       "        -0.36591728, -0.45004047,  2.56416949, -1.32715955],\n",
       "       [ 0.51882351, -0.67252496,  0.61521843,  0.85110054,  1.3714894 ,\n",
       "        -0.61369555, -0.45004047,  2.73048261, -1.26793589],\n",
       "       [ 0.63111682, -0.57468063,  0.42184075,  1.56359464,  1.41122084,\n",
       "        -0.36591728, -0.38270487,  1.28910218, -0.85337033],\n",
       "       [ 0.51882351, -0.1833033 ,  0.47340813,  1.15109806,  1.49068374,\n",
       "         0.84544316, -0.45004047,  1.23366447, -0.71518181],\n",
       "       [ 0.3584045 ,  2.49763137,  0.24135492,  0.36360458,  1.49068374,\n",
       "         2.33211279, -0.41637267,  0.51297425, -1.36664198],\n",
       "       [ 0.79153583,  2.3019427 ,  0.28003046,  1.22609743,  1.74893816,\n",
       "         2.33211279, -0.34903707,  1.84347927, -1.24819468],\n",
       "       [ 0.59903302,  1.65617012,  0.22846308,  1.15109806,  0.91457773,\n",
       "         2.85520026,  3.38808879, -0.04140285, -0.75466425],\n",
       "       [ 0.3904883 ,  0.87341547,  0.04797725,  0.43860396,  0.91457773,\n",
       "         3.02038577,  0.99767495,  1.28910218, -0.71518181],\n",
       "       [ 0.3263207 ,  0.56031361, -0.02937382,  0.40110427,  0.53712896,\n",
       "         2.1944582 ,  5.03781102,  0.79016279, -1.44560685],\n",
       "       [ 0.74341013,  0.03195422,  0.04797725,  1.11359837,  1.2125636 ,\n",
       "         2.24952004,  5.50916023,  1.06735134, -1.44560685]])"
      ]
     },
     "execution_count": 16,
     "metadata": {},
     "output_type": "execute_result"
    }
   ],
   "source": [
    "scaler = StandardScaler()\n",
    "X_scaled = scaler.fit_transform(df)\n",
    "X_scaled"
   ]
  },
  {
   "cell_type": "markdown",
   "id": "da43d5ef",
   "metadata": {},
   "source": [
    "# 3.) Run a Lasso with lambda of .5. Plot a bar chart."
   ]
  },
  {
   "cell_type": "code",
   "execution_count": 25,
   "id": "b7ff06aa",
   "metadata": {},
   "outputs": [],
   "source": [
    "from sklearn.linear_model import Lasso\n",
    "import matplotlib.pyplot as plt"
   ]
  },
  {
   "cell_type": "code",
   "execution_count": 50,
   "id": "f7311bec",
   "metadata": {},
   "outputs": [
    {
     "data": {
      "text/html": [
       "<style>#sk-container-id-5 {color: black;background-color: white;}#sk-container-id-5 pre{padding: 0;}#sk-container-id-5 div.sk-toggleable {background-color: white;}#sk-container-id-5 label.sk-toggleable__label {cursor: pointer;display: block;width: 100%;margin-bottom: 0;padding: 0.3em;box-sizing: border-box;text-align: center;}#sk-container-id-5 label.sk-toggleable__label-arrow:before {content: \"▸\";float: left;margin-right: 0.25em;color: #696969;}#sk-container-id-5 label.sk-toggleable__label-arrow:hover:before {color: black;}#sk-container-id-5 div.sk-estimator:hover label.sk-toggleable__label-arrow:before {color: black;}#sk-container-id-5 div.sk-toggleable__content {max-height: 0;max-width: 0;overflow: hidden;text-align: left;background-color: #f0f8ff;}#sk-container-id-5 div.sk-toggleable__content pre {margin: 0.2em;color: black;border-radius: 0.25em;background-color: #f0f8ff;}#sk-container-id-5 input.sk-toggleable__control:checked~div.sk-toggleable__content {max-height: 200px;max-width: 100%;overflow: auto;}#sk-container-id-5 input.sk-toggleable__control:checked~label.sk-toggleable__label-arrow:before {content: \"▾\";}#sk-container-id-5 div.sk-estimator input.sk-toggleable__control:checked~label.sk-toggleable__label {background-color: #d4ebff;}#sk-container-id-5 div.sk-label input.sk-toggleable__control:checked~label.sk-toggleable__label {background-color: #d4ebff;}#sk-container-id-5 input.sk-hidden--visually {border: 0;clip: rect(1px 1px 1px 1px);clip: rect(1px, 1px, 1px, 1px);height: 1px;margin: -1px;overflow: hidden;padding: 0;position: absolute;width: 1px;}#sk-container-id-5 div.sk-estimator {font-family: monospace;background-color: #f0f8ff;border: 1px dotted black;border-radius: 0.25em;box-sizing: border-box;margin-bottom: 0.5em;}#sk-container-id-5 div.sk-estimator:hover {background-color: #d4ebff;}#sk-container-id-5 div.sk-parallel-item::after {content: \"\";width: 100%;border-bottom: 1px solid gray;flex-grow: 1;}#sk-container-id-5 div.sk-label:hover label.sk-toggleable__label {background-color: #d4ebff;}#sk-container-id-5 div.sk-serial::before {content: \"\";position: absolute;border-left: 1px solid gray;box-sizing: border-box;top: 0;bottom: 0;left: 50%;z-index: 0;}#sk-container-id-5 div.sk-serial {display: flex;flex-direction: column;align-items: center;background-color: white;padding-right: 0.2em;padding-left: 0.2em;position: relative;}#sk-container-id-5 div.sk-item {position: relative;z-index: 1;}#sk-container-id-5 div.sk-parallel {display: flex;align-items: stretch;justify-content: center;background-color: white;position: relative;}#sk-container-id-5 div.sk-item::before, #sk-container-id-5 div.sk-parallel-item::before {content: \"\";position: absolute;border-left: 1px solid gray;box-sizing: border-box;top: 0;bottom: 0;left: 50%;z-index: -1;}#sk-container-id-5 div.sk-parallel-item {display: flex;flex-direction: column;z-index: 1;position: relative;background-color: white;}#sk-container-id-5 div.sk-parallel-item:first-child::after {align-self: flex-end;width: 50%;}#sk-container-id-5 div.sk-parallel-item:last-child::after {align-self: flex-start;width: 50%;}#sk-container-id-5 div.sk-parallel-item:only-child::after {width: 0;}#sk-container-id-5 div.sk-dashed-wrapped {border: 1px dashed gray;margin: 0 0.4em 0.5em 0.4em;box-sizing: border-box;padding-bottom: 0.4em;background-color: white;}#sk-container-id-5 div.sk-label label {font-family: monospace;font-weight: bold;display: inline-block;line-height: 1.2em;}#sk-container-id-5 div.sk-label-container {text-align: center;}#sk-container-id-5 div.sk-container {/* jupyter's `normalize.less` sets `[hidden] { display: none; }` but bootstrap.min.css set `[hidden] { display: none !important; }` so we also need the `!important` here to be able to override the default hidden behavior on the sphinx rendered scikit-learn.org. See: https://github.com/scikit-learn/scikit-learn/issues/21755 */display: inline-block !important;position: relative;}#sk-container-id-5 div.sk-text-repr-fallback {display: none;}</style><div id=\"sk-container-id-5\" class=\"sk-top-container\"><div class=\"sk-text-repr-fallback\"><pre>Lasso(alpha=0.1)</pre><b>In a Jupyter environment, please rerun this cell to show the HTML representation or trust the notebook. <br />On GitHub, the HTML representation is unable to render, please try loading this page with nbviewer.org.</b></div><div class=\"sk-container\" hidden><div class=\"sk-item\"><div class=\"sk-estimator sk-toggleable\"><input class=\"sk-toggleable__control sk-hidden--visually\" id=\"sk-estimator-id-5\" type=\"checkbox\" checked><label for=\"sk-estimator-id-5\" class=\"sk-toggleable__label sk-toggleable__label-arrow\">Lasso</label><div class=\"sk-toggleable__content\"><pre>Lasso(alpha=0.1)</pre></div></div></div></div></div>"
      ],
      "text/plain": [
       "Lasso(alpha=0.1)"
      ]
     },
     "execution_count": 50,
     "metadata": {},
     "output_type": "execute_result"
    }
   ],
   "source": [
    "lasso = Lasso(alpha=0.1)\n",
    "lasso.fit(X_scaled,data['BasicEPS'])"
   ]
  },
  {
   "cell_type": "code",
   "execution_count": 51,
   "id": "7c9235f8",
   "metadata": {},
   "outputs": [
    {
     "data": {
      "text/plain": [
       "array([ 0.        ,  0.        ,  0.        ,  0.07969294,  0.23609633,\n",
       "        0.00581371,  0.02580618,  0.        , -0.01990232])"
      ]
     },
     "execution_count": 51,
     "metadata": {},
     "output_type": "execute_result"
    }
   ],
   "source": [
    "coefficients = lasso.coef_\n",
    "coefficients"
   ]
  },
  {
   "cell_type": "code",
   "execution_count": 52,
   "id": "f56b2da0",
   "metadata": {},
   "outputs": [
    {
     "data": {
      "image/png": "[encoded data removed]",
      "text/plain": [
       "<Figure size 1800x500 with 1 Axes>"
      ]
     },
     "metadata": {},
     "output_type": "display_data"
    }
   ],
   "source": [
    "plt.figure(figsize = (18,5))\n",
    "plt.bar(range(len(coefficients)),coefficients,tick_label=df.columns)\n",
    "plt.axhline(0,color = \"red\")\n",
    "plt.show()"
   ]
  },
  {
   "cell_type": "markdown",
   "id": "e130a2be",
   "metadata": {},
   "source": [
    "# 5.) Do these coefficient magnitudes make sense?"
   ]
  },
  {
   "cell_type": "code",
   "execution_count": null,
   "id": "0798b232",
   "metadata": {},
   "outputs": [],
   "source": [
    "# Things that we suppose should nowcast earnings doesn't have high mganitudes, while things that irrelevant to earnings have high magnitudes"
   ]
  },
  {
   "cell_type": "code",
   "execution_count": null,
   "id": "bda82fa9",
   "metadata": {},
   "outputs": [],
   "source": [
    "# It doesn't make much sense, but there must exist some relationship other than causality"
   ]
  }
 ],
 "metadata": {
  "kernelspec": {
   "display_name": "Python 3 (ipykernel)",
   "language": "python",
   "name": "python3"
  },
  "language_info": {
   "codemirror_mode": {
    "name": "ipython",
    "version": 3
   },
   "file_extension": ".py",
   "mimetype": "text/x-python",
   "name": "python",
   "nbconvert_exporter": "python",
   "pygments_lexer": "ipython3",
   "version": "3.9.12"
  }
 },
 "nbformat": 4,
 "nbformat_minor": 5
}
